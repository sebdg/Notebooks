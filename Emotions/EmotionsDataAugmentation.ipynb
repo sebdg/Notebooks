{
 "cells": [
  {
   "cell_type": "markdown",
   "metadata": {},
   "source": [
    "# Synthetic Dataset generator"
   ]
  },
  {
   "cell_type": "code",
   "execution_count": 22,
   "metadata": {},
   "outputs": [
    {
     "data": {
      "text/plain": [
       "['emotion_detection',\n",
       " 'emotion_generation',\n",
       " 'emotion_analysis',\n",
       " 'conversational_context',\n",
       " 'emotional_summarization',\n",
       " 'emotion_comparison',\n",
       " 'emotion_explanation',\n",
       " 'emotion_detection_in_social_media',\n",
       " 'emotion_engagement',\n",
       " 'emotion_based_recommendations',\n",
       " 'emotion_and_context',\n",
       " 'cross_domain_emotion_detection',\n",
       " 'creative_writing_with_emotions',\n",
       " 'combining_emotions_with_other_data',\n",
       " 'multi_modal_emotion_analysis',\n",
       " 'emotion_based_querying',\n",
       " 'complex_emotion_tasks',\n",
       " 'integrating_emotions_in_machine_learning_workflows']"
      ]
     },
     "execution_count": 22,
     "metadata": {},
     "output_type": "execute_result"
    }
   ],
   "source": [
    "import json\n",
    "import random\n",
    "with open('prompts.json', \"r\", encoding=\"utf-8\") as json_file:\n",
    "    task_prompts = json.load(json_file)\n",
    "\n",
    "list(task_prompts.keys())"
   ]
  },
  {
   "cell_type": "code",
   "execution_count": 35,
   "metadata": {},
   "outputs": [
    {
     "name": "stdout",
     "output_type": "stream",
     "text": [
      "emotion_detection 5\n",
      "{'sentence', 'emotions'}\n",
      "{'sentence', 'emotions'}\n",
      "{'sentence', 'emotions'}\n",
      "{'sentence', 'emotions'}\n",
      "{'sentence', 'emotions'}\n",
      "emotion_generation 5\n",
      "{'emotions', 'sentence'}\n",
      "{'emotions', 'sentence'}\n",
      "{'emotions', 'sentence'}\n",
      "{'emotions', 'sentence'}\n",
      "{'emotions', 'sentence'}\n",
      "emotion_analysis 13\n",
      "{'sentence', 'emotions'}\n",
      "{'sentence', 'emotions'}\n",
      "{'sentence', 'emotions'}\n",
      "{'sentence', 'emotions'}\n",
      "{'sentence', 'emotions'}\n",
      "{'sentence', 'emotions'}\n",
      "{'sentence', 'emotions'}\n",
      "{'sentence', 'emotions'}\n",
      "{'sentence', 'emotions'}\n",
      "{'sentence', 'emotions'}\n",
      "{'sentence', 'emotions'}\n",
      "{'sentence', 'emotions'}\n",
      "{'sentence', 'emotions'}\n",
      "conversational_context 2\n",
      "{'second_sentence', 'sentence', 'emotions'}\n",
      "{'response_style', 'sentence', 'response'}\n",
      "emotional_summarization 1\n",
      "{'sentence', 'emotions'}\n",
      "emotion_comparison 1\n",
      "{'second_sentence', 'sentence', 'emotions'}\n",
      "emotion_explanation 1\n",
      "{'emotions', 'response', 'sentence'}\n",
      "emotion_detection_in_social_media 2\n",
      "{'sentence', 'emotions'}\n",
      "{'sentence', 'emotions'}\n",
      "emotion_engagement 3\n",
      "{'sentence', 'response'}\n",
      "{'sentence', 'response'}\n",
      "{'sentence', 'response'}\n",
      "emotion_based_recommendations 6\n",
      "{'sentence', 'response'}\n",
      "{'sentence', 'response'}\n",
      "{'sentence', 'response'}\n",
      "{'sentence', 'response'}\n",
      "{'sentence', 'response'}\n",
      "{'sentence', 'response'}\n",
      "emotion_and_context 2\n",
      "{'sentence', 'context', 'emotions'}\n",
      "{'sentence', 'response'}\n",
      "cross_domain_emotion_detection 2\n",
      "{'sentence', 'emotions'}\n",
      "{'sentence', 'emotions'}\n",
      "creative_writing_with_emotions 1\n",
      "{'emotions', 'sentence'}\n",
      "combining_emotions_with_other_data 2\n",
      "{'sentence', 'emotions'}\n",
      "{'sentence', 'emotions'}\n",
      "multi_modal_emotion_analysis 1\n",
      "{'sentence', 'image_description', 'emotions'}\n",
      "emotion_based_querying 1\n",
      "{'emotions', 'response'}\n",
      "complex_emotion_tasks 1\n",
      "{'sentence', 'emotions'}\n",
      "integrating_emotions_in_machine_learning_workflows 1\n",
      "{'sentence', 'emotions'}\n",
      "{'context', 'image_description', 'sentence', 'emotions', 'second_sentence', 'response_style', 'response'}\n"
     ]
    }
   ],
   "source": [
    "import re \n",
    "# recognize the placeholders in the prompt {placeholder}\n",
    "def find_placeholders(prompt):\n",
    "    return re.findall(r'\\{([^\\}]*)\\}', prompt)\n",
    "\n",
    "placeholders = set()\n",
    "for task, prompts in task_prompts.items():\n",
    "    print(task, len(prompts))\n",
    "    for prompt in prompts:\n",
    "        assert \"input_template\" in prompt, f\"input_template missing for {task}\"\n",
    "        assert \"output_template\" in prompt, f\"output_template missing for {task}\"\n",
    "        assert prompt.keys() == {\"input_template\", \"output_template\"}, f\"unknown keys in prompt for {task}\"\n",
    "        input_placeholders = find_placeholders(prompt[\"input_template\"])\n",
    "        output_placeholders = find_placeholders(prompt[\"output_template\"])\n",
    "        placeholders.update(input_placeholders)\n",
    "        placeholders.update(output_placeholders)\n",
    "        prompt_placeholders = set(input_placeholders + output_placeholders)\n",
    "        print(prompt_placeholders)\n",
    "\n",
    "print(placeholders)"
   ]
  },
  {
   "cell_type": "code",
   "execution_count": 36,
   "metadata": {},
   "outputs": [
    {
     "name": "stdout",
     "output_type": "stream",
     "text": [
      "Index(['admiration', 'amusement', 'anger', 'annoyance', 'approval', 'caring',\n",
      "       'confusion', 'curiosity', 'desire', 'disappointment', 'disapproval',\n",
      "       'disgust', 'embarrassment', 'excitement', 'fear', 'gratitude', 'grief',\n",
      "       'joy', 'love', 'nervousness', 'optimism', 'pride', 'realization',\n",
      "       'relief', 'remorse', 'sadness', 'surprise', 'neutral'],\n",
      "      dtype='object')\n"
     ]
    },
    {
     "data": {
      "text/plain": [
       "36949                   disapproval\n",
       "13467    approval, desire, optimism\n",
       "12483      caring, desire, optimism\n",
       "3633         curiosity, realization\n",
       "23998                     curiosity\n",
       "Name: emotions_text, dtype: object"
      ]
     },
     "execution_count": 36,
     "metadata": {},
     "output_type": "execute_result"
    }
   ],
   "source": [
    "import pandas as pd\n",
    "emotions_df = pd.read_parquet(\"go_emotions_train.parquet\")\n",
    "emotions_df.head()\n",
    "\n",
    "emotion_columns = emotions_df.columns[1:29]\n",
    "print(emotion_columns)\n",
    "\n",
    "emotions_df[\"emotions\"] = emotions_df[emotion_columns].apply(lambda x: x[x == 1].index.tolist(), axis=1)\n",
    "emotions_df[\"emotions_text\"] = emotions_df[\"emotions\"].apply(lambda x: \", \".join(x))\n",
    "emotions_df[\"emotions_text\"].head()"
   ]
  },
  {
   "cell_type": "code",
   "execution_count": 37,
   "metadata": {},
   "outputs": [
    {
     "name": "stdout",
     "output_type": "stream",
     "text": [
      "emotion_detection 5\n",
      "emotion_generation 5\n"
     ]
    },
    {
     "data": {
      "text/html": [
       "<div>\n",
       "<style scoped>\n",
       "    .dataframe tbody tr th:only-of-type {\n",
       "        vertical-align: middle;\n",
       "    }\n",
       "\n",
       "    .dataframe tbody tr th {\n",
       "        vertical-align: top;\n",
       "    }\n",
       "\n",
       "    .dataframe thead th {\n",
       "        text-align: right;\n",
       "    }\n",
       "</style>\n",
       "<table border=\"1\" class=\"dataframe\">\n",
       "  <thead>\n",
       "    <tr style=\"text-align: right;\">\n",
       "      <th></th>\n",
       "      <th>task</th>\n",
       "      <th>instruction</th>\n",
       "      <th>input</th>\n",
       "      <th>output</th>\n",
       "      <th>emotions</th>\n",
       "      <th>sentence</th>\n",
       "    </tr>\n",
       "  </thead>\n",
       "  <tbody>\n",
       "    <tr>\n",
       "      <th>0</th>\n",
       "      <td>emotion_detection</td>\n",
       "      <td>You are an emotion detection specialist.</td>\n",
       "      <td>Identify all the emotions present in the follo...</td>\n",
       "      <td>The emotions are : disapproval</td>\n",
       "      <td>disapproval</td>\n",
       "      <td>Stop opening the pictures. Stop giving her the...</td>\n",
       "    </tr>\n",
       "    <tr>\n",
       "      <th>1</th>\n",
       "      <td>emotion_detection</td>\n",
       "      <td>You are an emotion detection specialist.</td>\n",
       "      <td>Classify the emotions and their intensity in t...</td>\n",
       "      <td>This text exposes disapproval as emotions</td>\n",
       "      <td>disapproval</td>\n",
       "      <td>Stop opening the pictures. Stop giving her the...</td>\n",
       "    </tr>\n",
       "    <tr>\n",
       "      <th>2</th>\n",
       "      <td>emotion_detection</td>\n",
       "      <td>You are an emotion detection specialist.</td>\n",
       "      <td>Classify the emotions expressed in the followi...</td>\n",
       "      <td>disapproval</td>\n",
       "      <td>disapproval</td>\n",
       "      <td>Stop opening the pictures. Stop giving her the...</td>\n",
       "    </tr>\n",
       "    <tr>\n",
       "      <th>3</th>\n",
       "      <td>emotion_detection</td>\n",
       "      <td>You are an emotion detection specialist.</td>\n",
       "      <td>Detect the emotions in the following text: 'Hu...</td>\n",
       "      <td>approval, desire, optimism</td>\n",
       "      <td>approval, desire, optimism</td>\n",
       "      <td>Huh. As a man, I have support from friends and...</td>\n",
       "    </tr>\n",
       "    <tr>\n",
       "      <th>4</th>\n",
       "      <td>emotion_detection</td>\n",
       "      <td>You are an emotion detection specialist.</td>\n",
       "      <td>Identify all the emotions present in the follo...</td>\n",
       "      <td>The emotions are : approval, desire, optimism</td>\n",
       "      <td>approval, desire, optimism</td>\n",
       "      <td>Huh. As a man, I have support from friends and...</td>\n",
       "    </tr>\n",
       "    <tr>\n",
       "      <th>...</th>\n",
       "      <td>...</td>\n",
       "      <td>...</td>\n",
       "      <td>...</td>\n",
       "      <td>...</td>\n",
       "      <td>...</td>\n",
       "      <td>...</td>\n",
       "    </tr>\n",
       "    <tr>\n",
       "      <th>309085</th>\n",
       "      <td>emotion_generation</td>\n",
       "      <td>You are an emotion generation specialist.</td>\n",
       "      <td>Create a statement that conveys admiration, am...</td>\n",
       "      <td>The expression: Afro samurai lol, that's prett...</td>\n",
       "      <td>admiration, amusement, disapproval</td>\n",
       "      <td>Afro samurai lol, that's pretty interesting ne...</td>\n",
       "    </tr>\n",
       "    <tr>\n",
       "      <th>309086</th>\n",
       "      <td>emotion_generation</td>\n",
       "      <td>You are an emotion generation specialist.</td>\n",
       "      <td>Create a statement that conveys admiration, am...</td>\n",
       "      <td>The expression: Afro samurai lol, that's prett...</td>\n",
       "      <td>admiration, amusement, disapproval</td>\n",
       "      <td>Afro samurai lol, that's pretty interesting ne...</td>\n",
       "    </tr>\n",
       "    <tr>\n",
       "      <th>309087</th>\n",
       "      <td>emotion_generation</td>\n",
       "      <td>You are an emotion generation specialist.</td>\n",
       "      <td>Create a phrase that delivers the desired ange...</td>\n",
       "      <td>Presenting the conveyed emotion: &gt; he might no...</td>\n",
       "      <td>anger, annoyance, disappointment</td>\n",
       "      <td>&gt; he might not have seen the truth by the time...</td>\n",
       "    </tr>\n",
       "    <tr>\n",
       "      <th>309088</th>\n",
       "      <td>emotion_generation</td>\n",
       "      <td>You are an emotion generation specialist.</td>\n",
       "      <td>Produce a statement that communicates: anger, ...</td>\n",
       "      <td>Here is the expressed sentiment: &gt; he might no...</td>\n",
       "      <td>anger, annoyance, disappointment</td>\n",
       "      <td>&gt; he might not have seen the truth by the time...</td>\n",
       "    </tr>\n",
       "    <tr>\n",
       "      <th>309089</th>\n",
       "      <td>emotion_generation</td>\n",
       "      <td>You are an emotion generation specialist.</td>\n",
       "      <td>Compose a statement that captures the given an...</td>\n",
       "      <td>The following statement reflects: &gt; he might n...</td>\n",
       "      <td>anger, annoyance, disappointment</td>\n",
       "      <td>&gt; he might not have seen the truth by the time...</td>\n",
       "    </tr>\n",
       "  </tbody>\n",
       "</table>\n",
       "<p>309090 rows × 6 columns</p>\n",
       "</div>"
      ],
      "text/plain": [
       "                      task                                instruction  \\\n",
       "0        emotion_detection   You are an emotion detection specialist.   \n",
       "1        emotion_detection   You are an emotion detection specialist.   \n",
       "2        emotion_detection   You are an emotion detection specialist.   \n",
       "3        emotion_detection   You are an emotion detection specialist.   \n",
       "4        emotion_detection   You are an emotion detection specialist.   \n",
       "...                    ...                                        ...   \n",
       "309085  emotion_generation  You are an emotion generation specialist.   \n",
       "309086  emotion_generation  You are an emotion generation specialist.   \n",
       "309087  emotion_generation  You are an emotion generation specialist.   \n",
       "309088  emotion_generation  You are an emotion generation specialist.   \n",
       "309089  emotion_generation  You are an emotion generation specialist.   \n",
       "\n",
       "                                                    input  \\\n",
       "0       Identify all the emotions present in the follo...   \n",
       "1       Classify the emotions and their intensity in t...   \n",
       "2       Classify the emotions expressed in the followi...   \n",
       "3       Detect the emotions in the following text: 'Hu...   \n",
       "4       Identify all the emotions present in the follo...   \n",
       "...                                                   ...   \n",
       "309085  Create a statement that conveys admiration, am...   \n",
       "309086  Create a statement that conveys admiration, am...   \n",
       "309087  Create a phrase that delivers the desired ange...   \n",
       "309088  Produce a statement that communicates: anger, ...   \n",
       "309089  Compose a statement that captures the given an...   \n",
       "\n",
       "                                                   output  \\\n",
       "0                          The emotions are : disapproval   \n",
       "1               This text exposes disapproval as emotions   \n",
       "2                                             disapproval   \n",
       "3                              approval, desire, optimism   \n",
       "4           The emotions are : approval, desire, optimism   \n",
       "...                                                   ...   \n",
       "309085  The expression: Afro samurai lol, that's prett...   \n",
       "309086  The expression: Afro samurai lol, that's prett...   \n",
       "309087  Presenting the conveyed emotion: > he might no...   \n",
       "309088  Here is the expressed sentiment: > he might no...   \n",
       "309089  The following statement reflects: > he might n...   \n",
       "\n",
       "                                  emotions  \\\n",
       "0                              disapproval   \n",
       "1                              disapproval   \n",
       "2                              disapproval   \n",
       "3               approval, desire, optimism   \n",
       "4               approval, desire, optimism   \n",
       "...                                    ...   \n",
       "309085  admiration, amusement, disapproval   \n",
       "309086  admiration, amusement, disapproval   \n",
       "309087    anger, annoyance, disappointment   \n",
       "309088    anger, annoyance, disappointment   \n",
       "309089    anger, annoyance, disappointment   \n",
       "\n",
       "                                                 sentence  \n",
       "0       Stop opening the pictures. Stop giving her the...  \n",
       "1       Stop opening the pictures. Stop giving her the...  \n",
       "2       Stop opening the pictures. Stop giving her the...  \n",
       "3       Huh. As a man, I have support from friends and...  \n",
       "4       Huh. As a man, I have support from friends and...  \n",
       "...                                                   ...  \n",
       "309085  Afro samurai lol, that's pretty interesting ne...  \n",
       "309086  Afro samurai lol, that's pretty interesting ne...  \n",
       "309087  > he might not have seen the truth by the time...  \n",
       "309088  > he might not have seen the truth by the time...  \n",
       "309089  > he might not have seen the truth by the time...  \n",
       "\n",
       "[309090 rows x 6 columns]"
      ]
     },
     "execution_count": 37,
     "metadata": {},
     "output_type": "execute_result"
    }
   ],
   "source": [
    "targeted_prompts = [\"emotion_detection\", \"emotion_generation\"]\n",
    "finetune = []\n",
    "gen_per_prompt = 3\n",
    "for task in targeted_prompts:\n",
    "    print(task, len(task_prompts[task]))\n",
    "    for index, row in emotions_df.iterrows():\n",
    "        emotions = row[\"emotions_text\"]\n",
    "        sentence = row[\"text\"]\n",
    "        for i in range(gen_per_prompt):\n",
    "            selected_prompt = random.choice(task_prompts[task])\n",
    "            instruction = f\"You are an {task.replace('_', ' ')} specialist.\"\n",
    "            input = selected_prompt[\"input_template\"].format(sentence=sentence, emotions=emotions)\n",
    "            output = selected_prompt[\"output_template\"].format(sentence=sentence, emotions=emotions)\n",
    "            finetune.append({\"task\": task, \"instruction\": instruction, \"input\": input, \"output\": output, \"emotions\": emotions, \"sentence\": sentence})\n",
    "\n",
    "finetune_df = pd.DataFrame(finetune)\n",
    "finetune_df"
   ]
  },
  {
   "cell_type": "code",
   "execution_count": 38,
   "metadata": {},
   "outputs": [
    {
     "data": {
      "application/vnd.jupyter.widget-view+json": {
       "model_id": "897856116a1540cfaf822f057176748b",
       "version_major": 2,
       "version_minor": 0
      },
      "text/plain": [
       "Uploading the dataset shards:   0%|          | 0/1 [00:00<?, ?it/s]"
      ]
     },
     "metadata": {},
     "output_type": "display_data"
    },
    {
     "data": {
      "application/vnd.jupyter.widget-view+json": {
       "model_id": "54c8530b57284049a84a83d284cce26a",
       "version_major": 2,
       "version_minor": 0
      },
      "text/plain": [
       "Creating parquet from Arrow format:   0%|          | 0/310 [00:00<?, ?ba/s]"
      ]
     },
     "metadata": {},
     "output_type": "display_data"
    },
    {
     "data": {
      "application/vnd.jupyter.widget-view+json": {
       "model_id": "5a546b77b2264f5baae9c3f566feedce",
       "version_major": 2,
       "version_minor": 0
      },
      "text/plain": [
       "README.md:   0%|          | 0.00/464 [00:00<?, ?B/s]"
      ]
     },
     "metadata": {},
     "output_type": "display_data"
    },
    {
     "data": {
      "text/plain": [
       "CommitInfo(commit_url='https://huggingface.co/datasets/sebdg/fine-tune-emotions/commit/b917f2c5662f62294e02f0b8d1ea7398311337af', commit_message='Upload dataset', commit_description='', oid='b917f2c5662f62294e02f0b8d1ea7398311337af', pr_url=None, pr_revision=None, pr_num=None)"
      ]
     },
     "execution_count": 38,
     "metadata": {},
     "output_type": "execute_result"
    }
   ],
   "source": [
    "from datasets import Dataset\n",
    "\n",
    "dataset = Dataset.from_pandas(finetune_df)\n",
    "dataset.push_to_hub(\"sebdg/fine-tune-emotions\")"
   ]
  }
 ],
 "metadata": {
  "kernelspec": {
   "display_name": "tf3",
   "language": "python",
   "name": "python3"
  },
  "language_info": {
   "codemirror_mode": {
    "name": "ipython",
    "version": 3
   },
   "file_extension": ".py",
   "mimetype": "text/x-python",
   "name": "python",
   "nbconvert_exporter": "python",
   "pygments_lexer": "ipython3",
   "version": "3.11.9"
  }
 },
 "nbformat": 4,
 "nbformat_minor": 2
}
